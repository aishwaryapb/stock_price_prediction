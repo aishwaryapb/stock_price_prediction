{
 "cells": [
  {
   "cell_type": "code",
   "execution_count": 1,
   "metadata": {},
   "outputs": [],
   "source": [
    "# Import required libraries\n",
    "\n",
    "import pandas as pd\n",
    "import numpy as np"
   ]
  },
  {
   "cell_type": "code",
   "execution_count": 2,
   "metadata": {},
   "outputs": [],
   "source": [
    "# Load data\n",
    "fundamentals = pd.read_csv('../data/raw/fundamentals.csv')\n",
    "prices = pd.read_csv('../data/raw/prices-split-adjusted.csv')\n",
    "securities = pd.read_csv('../data/raw/securities.csv')\n",
    "\n",
    "# Check missing values in the datasets and output that into a csv file\n",
    "df = pd.DataFrame(fundamentals.isnull().sum())\n",
    "df.to_csv('outputs/fundamentals_column_error_count.csv')\n",
    "df = pd.DataFrame(prices.isnull().sum())\n",
    "df.to_csv('outputs/prices_column_error_count.csv')\n",
    "df = pd.DataFrame(securities.isnull().sum())\n",
    "df.to_csv('outputs/securities_column_error_count.csv')\n"
   ]
  },
  {
   "cell_type": "code",
   "execution_count": 3,
   "metadata": {},
   "outputs": [],
   "source": [
    "# Drop rows which have missing values in the identified columns\n",
    "\n",
    "columns_to_check = ['Cash Ratio', 'Current Ratio', 'Quick Ratio', 'For Year', 'Earnings Per Share', 'Estimated Shares Outstanding']\n",
    "fundamentals = fundamentals.dropna(subset=columns_to_check)\n",
    "\n",
    "# Drop useless columns\n",
    "securities.drop(columns=['Date first added'], inplace=True)"
   ]
  },
  {
   "cell_type": "code",
   "execution_count": 4,
   "metadata": {},
   "outputs": [],
   "source": [
    "# Checking the date formats in the date columns\n",
    "prices['date'] = pd.to_datetime(prices['date'])\n",
    "fundamentals['Period Ending'] = pd.to_datetime(fundamentals['Period Ending'])\n",
    "\n",
    "# Drop duplicates\n",
    "fundamentals.drop_duplicates(inplace=True)\n",
    "prices.drop_duplicates(inplace=True)\n",
    "securities.drop_duplicates(inplace=True)"
   ]
  },
  {
   "cell_type": "code",
   "execution_count": 5,
   "metadata": {},
   "outputs": [],
   "source": [
    "# Keep rows for ticker symbols which are present in both fundamentals.csv an prices.csv\n",
    "\n",
    "ticker_symbols_prices = prices['symbol'].unique()\n",
    "fundamentals = fundamentals[fundamentals['Ticker Symbol'].isin(ticker_symbols_prices)]\n",
    "ticker_symbols_fundamentals = fundamentals['Ticker Symbol'].unique()\n",
    "prices = prices[prices['symbol'].isin(ticker_symbols_fundamentals)]\n",
    "securities = securities[securities['Ticker symbol'].isin(ticker_symbols_fundamentals)]\n",
    "\n",
    "# Save the final list of ticker symbols\n",
    "df = pd.DataFrame(ticker_symbols_fundamentals)\n",
    "df.to_csv('outputs/ticker_symbols.csv')"
   ]
  },
  {
   "cell_type": "code",
   "execution_count": 6,
   "metadata": {},
   "outputs": [],
   "source": [
    "prices.sort_values(by=['symbol', 'date'], inplace=True)\n",
    "fundamentals.sort_values(by=['Ticker Symbol', 'Period Ending'], inplace=True)\n",
    "securities.sort_values(by='Ticker symbol', inplace=True)"
   ]
  },
  {
   "cell_type": "code",
   "execution_count": 7,
   "metadata": {},
   "outputs": [],
   "source": [
    "# Save the cleaned datasets\n",
    "fundamentals.to_csv('../data/clean/fundamentals.csv')\n",
    "prices.to_csv('../data/clean/prices.csv')\n",
    "securities.to_csv('../data/clean/securities.csv')"
   ]
  },
  {
   "cell_type": "code",
   "execution_count": 8,
   "metadata": {},
   "outputs": [],
   "source": [
    "# Merge GICS Sector from securities.csv into fundamentals.csv\n",
    "securities = securities[['Ticker symbol', 'GICS Sector']]\n",
    "fundamentals = fundamentals.merge(securities, left_on='Ticker Symbol', right_on='Ticker symbol', how='left')\n",
    "fundamentals = fundamentals.drop(columns=['Ticker symbol'])\n",
    "fundamentals = fundamentals.rename(columns={'GICS Sector': 'Sector'})\n",
    "\n",
    "# Create a new column for the next quarter's average stock price\n",
    "fundamentals['Next Qtr. Avg. Price'] = None\n",
    "\n",
    "# Calculate the next quarter's average stock price\n",
    "for index, row in fundamentals.iterrows():\n",
    "    symbol = row['Ticker Symbol']\n",
    "    period_ending = row['Period Ending']\n",
    "    \n",
    "    # Define the next quarter period\n",
    "    start_date = period_ending\n",
    "    end_date = start_date + pd.DateOffset(months=3)\n",
    "    \n",
    "    # Get the stock prices for the next quarter\n",
    "    next_quarter_prices = prices[(prices['symbol'] == symbol) & (prices['date'] > start_date) & (prices['date'] <= end_date)]['close']\n",
    "    \n",
    "    # Calculate the rolling average stock price for the next quarter\n",
    "    if len(next_quarter_prices) > 0: \n",
    "        rolling_avg_price = next_quarter_prices.rolling(window=3, min_periods=1).mean().mean()\n",
    "    else: \n",
    "        rolling_avg_price = None\n",
    "    \n",
    "    # Update the DataFrame\n",
    "    fundamentals.at[index, 'Next Qtr. Avg. Price'] = rolling_avg_price\n",
    "\n",
    "# Convert columns to numeric, except 'Ticker Symbol', 'Period Ending', and 'Sector'\n",
    "cols_to_convert = [col for col in fundamentals.columns if col not in ['Ticker Symbol', 'Period Ending', 'Sector']]\n",
    "fundamentals[cols_to_convert] = fundamentals[cols_to_convert].apply(pd.to_numeric, errors='coerce')\n",
    "\n",
    "# Drop redundant first column\n",
    "fundamentals = fundamentals.drop(fundamentals.columns[0], axis=1)\n",
    "\n",
    "# Save the final merged dataset\n",
    "fundamentals.to_csv('../data/merged_data.csv', index=False)\n"
   ]
  }
 ],
 "metadata": {
  "kernelspec": {
   "display_name": "Python 3",
   "language": "python",
   "name": "python3"
  },
  "language_info": {
   "codemirror_mode": {
    "name": "ipython",
    "version": 3
   },
   "file_extension": ".py",
   "mimetype": "text/x-python",
   "name": "python",
   "nbconvert_exporter": "python",
   "pygments_lexer": "ipython3",
   "version": "3.11.10"
  }
 },
 "nbformat": 4,
 "nbformat_minor": 2
}
